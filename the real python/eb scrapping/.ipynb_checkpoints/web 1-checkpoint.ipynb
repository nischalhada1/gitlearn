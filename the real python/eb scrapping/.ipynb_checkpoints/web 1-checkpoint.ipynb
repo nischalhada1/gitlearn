{
 "cells": [
  {
   "cell_type": "code",
   "execution_count": 3,
   "metadata": {},
   "outputs": [],
   "source": [
    "from bs4 import BeautifulSoup as bs \n",
    "from urllib.request import urlopen "
   ]
  },
  {
   "cell_type": "code",
   "execution_count": 4,
   "metadata": {},
   "outputs": [],
   "source": [
    "html=urlopen(\"file:///F:/html/machine%20learning/web%20scrapping/test.html\")"
   ]
  },
  {
   "cell_type": "code",
   "execution_count": 5,
   "metadata": {},
   "outputs": [],
   "source": [
    "#print(html.read())\n",
    "bsobj = bs(html.read())"
   ]
  },
  {
   "cell_type": "code",
   "execution_count": 6,
   "metadata": {},
   "outputs": [
    {
     "data": {
      "text/plain": [
       "<html>\n",
       "<head><title>Learning web scrapping.</title>\n",
       "<style type=\"text/css\">\n",
       "        #first{\n",
       "            color: blue;\n",
       "        }\n",
       "        .second{\n",
       "            color: green;\n",
       "        }\n",
       "        \n",
       "    </style>\n",
       "</head><body><h1><center>Hello World!</center></h1>\n",
       "<!-- testtest -->\n",
       "<h6>This is the smallest Font available</h6>\n",
       "<img src=\"F:\\wall\\423181.jpg\"/>\n",
       "<a href=\"F:\\wall\\423181.jpg\">click here</a>\n",
       "<p>Lorem ipsum dolor sit amet consectetur adipisicing elit. Voluptatibus blanditiis animi facere eos aliquam quia. Accusantium quos, voluptatibus labore laborum voluptates sequi magni, itaque rerum vitae velit, dignissimos impedit odio!</p>\n",
       "<hr/>\n",
       "<table id=\"first\">\n",
       "<tr>\n",
       "<th>ID</th>\n",
       "<th>Name</th>\n",
       "<th>Address</th>\n",
       "</tr>\n",
       "<tr>\n",
       "<td>1.</td>\n",
       "<td>Nischal Hada</td>\n",
       "<td>Pepsicola</td>\n",
       "</tr>\n",
       "<tr>\n",
       "<td>2.</td>\n",
       "<td>Ram Shyam</td>\n",
       "<td>Story Book</td>\n",
       "</tr>\n",
       "</table>\n",
       "<hr/>\n",
       "<table class=\"second\">\n",
       "<tr>\n",
       "<th>Name</th>\n",
       "<th>Price</th>\n",
       "</tr>\n",
       "<td>Rice</td>\n",
       "<td>2000</td>\n",
       "<tr>\n",
       "<td>Milk</td>\n",
       "<td>200</td>\n",
       "</tr>\n",
       "<tr>\n",
       "<td>Paneer</td>\n",
       "<td>7000</td>\n",
       "</tr>\n",
       "</table>\n",
       "<hr/>\n",
       "<p style=\"color:red;font-weight: bold;\">red colour</p>\n",
       "<hr/>\n",
       "<p>this is khwopa <span style=\"color: green;\">engineering college</span></p>\n",
       "</body></html>"
      ]
     },
     "execution_count": 6,
     "metadata": {},
     "output_type": "execute_result"
    }
   ],
   "source": [
    "bsobj"
   ]
  },
  {
   "cell_type": "code",
   "execution_count": 7,
   "metadata": {},
   "outputs": [],
   "source": [
    "temp=bsobj.table.find_all(\"tr\")[1:]"
   ]
  },
  {
   "cell_type": "code",
   "execution_count": 11,
   "metadata": {},
   "outputs": [],
   "source": [
    "l=[]\n",
    "for t in temp:\n",
    "    v= t.find_all(\"td\")\n",
    "    d={\n",
    "        'id':v[0].get_text(),\n",
    "        'name':v[1].get_text(),\n",
    "        'address':v[2].get_text()\n",
    "    }\n",
    "    l.append(d)"
   ]
  },
  {
   "cell_type": "code",
   "execution_count": 12,
   "metadata": {},
   "outputs": [
    {
     "data": {
      "text/plain": [
       "[{'id': '1.', 'name': 'Nischal Hada', 'address': 'Pepsicola'},\n",
       " {'id': '2.', 'name': 'Ram Shyam', 'address': 'Story Book'}]"
      ]
     },
     "execution_count": 12,
     "metadata": {},
     "output_type": "execute_result"
    }
   ],
   "source": [
    "l"
   ]
  }
 ],
 "metadata": {
  "kernelspec": {
   "display_name": "Python 3",
   "language": "python",
   "name": "python3"
  },
  "language_info": {
   "codemirror_mode": {
    "name": "ipython",
    "version": 3
   },
   "file_extension": ".py",
   "mimetype": "text/x-python",
   "name": "python",
   "nbconvert_exporter": "python",
   "pygments_lexer": "ipython3",
   "version": "3.7.4"
  }
 },
 "nbformat": 4,
 "nbformat_minor": 2
}
