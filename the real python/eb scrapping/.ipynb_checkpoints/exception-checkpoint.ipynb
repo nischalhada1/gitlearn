{
 "cells": [
  {
   "cell_type": "markdown",
   "metadata": {},
   "source": [
    "<h1>Exception Handling<h1>"
   ]
  },
  {
   "cell_type": "code",
   "execution_count": 9,
   "metadata": {},
   "outputs": [
    {
     "name": "stdout",
     "output_type": "stream",
     "text": [
      "enter a number1\n",
      "enter a number2\n",
      "a/b=0.5\n"
     ]
    }
   ],
   "source": [
    "a= int(input('enter a number'))\n",
    "b= int(input('enter a number'))\n",
    "try:\n",
    "    rem=a/b\n",
    "except Exception as e:\n",
    "    print(e)\n",
    "else:\n",
    "    print('a/b={}'.format(rem))"
   ]
  },
  {
   "cell_type": "code",
   "execution_count": 10,
   "metadata": {},
   "outputs": [
    {
     "name": "stdout",
     "output_type": "stream",
     "text": [
      "[Errno 2] No such file or directory: 'exception.txt'\n",
      "finally block get executed\n"
     ]
    }
   ],
   "source": [
    "try:\n",
    "    f=open('exception.txt','r')\n",
    "except Exception as e:\n",
    "    print(e)\n",
    "else:\n",
    "    line=f.read()\n",
    "    print(line)\n",
    "finally:\n",
    "    print('finally block get executed')"
   ]
  },
  {
   "cell_type": "markdown",
   "metadata": {},
   "source": [
    "# class and objects "
   ]
  },
  {
   "cell_type": "code",
   "execution_count": 50,
   "metadata": {},
   "outputs": [],
   "source": [
    "class Student:\n",
    "    def __init__(self,name):\n",
    "        self.name = name \n",
    "        self.marks = []\n",
    "        self.a=0\n",
    "        \n",
    "    def setmark(self):\n",
    "        for i in range(3):\n",
    "            m= float(input('enter the mark in subject:{} '.format(i+1)))\n",
    "            self.marks.append(m)\n",
    "            \n",
    "    def calc(self):\n",
    "        sum=0\n",
    "        for i in self.marks:\n",
    "            sum = sum + i\n",
    "        return sum\n",
    "                    \n",
    "    def display(self,total):\n",
    "        print('following are the details')\n",
    "        print('name: {}'.format(self.name))\n",
    "        print('marks obtained: {},{},{}'.format(self.marks[0],self.marks[1],self.marks[2]))\n",
    "        print('the obtained percent is: %.2f' %(total/3))"
   ]
  },
  {
   "cell_type": "code",
   "execution_count": 53,
   "metadata": {},
   "outputs": [
    {
     "name": "stdout",
     "output_type": "stream",
     "text": [
      "enter the mark in subject:1 50\n",
      "enter the mark in subject:2 20\n",
      "enter the mark in subject:3 90\n",
      "following are the details\n",
      "name: Nischal\n",
      "marks obtained: 50.0,20.0,90.0\n",
      "the obtained percent is: 53.33\n"
     ]
    }
   ],
   "source": [
    "s = Student(\"Nischal\")\n",
    "s.setmark()\n",
    "temp= s.calc()\n",
    "s.display(temp)"
   ]
  },
  {
   "cell_type": "code",
   "execution_count": 60,
   "metadata": {},
   "outputs": [
    {
     "name": "stdout",
     "output_type": "stream",
     "text": [
      "Enter your name:nischal\n",
      "enter your balance:5000\n",
      "enter the ammount to deposite:100\n",
      "enter the amount of withdraw:100\n",
      "your current balance is 5000\n"
     ]
    }
   ],
   "source": [
    "n=(input('Enter your name:'))\n",
    "b=int(input('enter your balance:'))\n",
    "class ATM:\n",
    "    def __init__(self,name,amount):\n",
    "        self.name=name\n",
    "        self.amount=amount\n",
    "    def depo(self):\n",
    "        a=int(input('enter the ammount to deposite:'))\n",
    "        self.amount = self.amount+a\n",
    "    def wid(self):\n",
    "        w=int(input('enter the amount of withdraw:'))\n",
    "        if(w>self.amount):\n",
    "            print('you dont have that much money!')\n",
    "        else:\n",
    "            self.amount=self.amount-w\n",
    "    def display(self):\n",
    "        print('your current balance is {}'.format(self.amount))\n",
    "    \n",
    "a=ATM(n,b)\n",
    "a.depo()\n",
    "a.wid()\n",
    "a.display()\n",
    "        "
   ]
  },
  {
   "cell_type": "code",
   "execution_count": null,
   "metadata": {},
   "outputs": [],
   "source": []
  }
 ],
 "metadata": {
  "kernelspec": {
   "display_name": "Python 3",
   "language": "python",
   "name": "python3"
  },
  "language_info": {
   "codemirror_mode": {
    "name": "ipython",
    "version": 3
   },
   "file_extension": ".py",
   "mimetype": "text/x-python",
   "name": "python",
   "nbconvert_exporter": "python",
   "pygments_lexer": "ipython3",
   "version": "3.7.4"
  }
 },
 "nbformat": 4,
 "nbformat_minor": 2
}
