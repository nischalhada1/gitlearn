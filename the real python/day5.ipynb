{
 "cells": [
  {
   "cell_type": "markdown",
   "metadata": {},
   "source": [
    "#function"
   ]
  },
  {
   "cell_type": "code",
   "execution_count": 2,
   "metadata": {},
   "outputs": [],
   "source": [
    "def display():\n",
    "    a=int(input('enter a number:'))\n",
    "    b=int(input('enter a number:'))\n",
    "    print('a={} b={}'.format(a,b))\n",
    "    "
   ]
  },
  {
   "cell_type": "code",
   "execution_count": 4,
   "metadata": {},
   "outputs": [
    {
     "name": "stdout",
     "output_type": "stream",
     "text": [
      "enter a number:10\n",
      "enter a number:20\n",
      "a=10 b=20\n"
     ]
    }
   ],
   "source": [
    "display()"
   ]
  },
  {
   "cell_type": "code",
   "execution_count": null,
   "metadata": {},
   "outputs": [],
   "source": [
    "def new_display(x,y):\n",
    "    print('a={} b={}'.format(x,y))\n",
    "  \n",
    "\n",
    "a=int(input('enter a number:'))\n",
    "b=int(input('enter a number:'))\n",
    "\n",
    "new_display(a,b)\n",
    "\n"
   ]
  },
  {
   "cell_type": "code",
   "execution_count": 1,
   "metadata": {},
   "outputs": [
    {
     "name": "stdout",
     "output_type": "stream",
     "text": [
      "enter a number:1\n",
      "enter another number:1\n",
      "result= 2\n"
     ]
    }
   ],
   "source": [
    "def add(x,y):\n",
    "    return(x+y)\n",
    "\n",
    "a=int(input('enter a number:'))\n",
    "b=int(input('enter another number:'))\n",
    "\n",
    "print('result=',add(a,b))"
   ]
  },
  {
   "cell_type": "code",
   "execution_count": 4,
   "metadata": {},
   "outputs": [
    {
     "name": "stdout",
     "output_type": "stream",
     "text": [
      "I value with in test function 10\n",
      "I value outside function 10\n"
     ]
    }
   ],
   "source": [
    "i= 10\n",
    "def test():\n",
    "    print('I value with in test function',i)\n",
    "test()\n",
    "print('I value outside function',i)"
   ]
  },
  {
   "cell_type": "code",
   "execution_count": 6,
   "metadata": {},
   "outputs": [
    {
     "name": "stdout",
     "output_type": "stream",
     "text": [
      "I value with in test function 20\n",
      "I value outside function 10\n"
     ]
    }
   ],
   "source": [
    "i= 10\n",
    "def test():\n",
    "    i=20\n",
    "    print('I value with in test function',i)\n",
    "test()\n",
    "print('I value outside function',i)"
   ]
  },
  {
   "cell_type": "code",
   "execution_count": 8,
   "metadata": {},
   "outputs": [
    {
     "name": "stdout",
     "output_type": "stream",
     "text": [
      "I value with in test function 20\n",
      "I value outside function 20\n"
     ]
    }
   ],
   "source": [
    "i= 10\n",
    "def test():\n",
    "    global i\n",
    "    i=20\n",
    "    print('I value with in test function',i)\n",
    "test()\n",
    "print('I value outside function',i)"
   ]
  },
  {
   "cell_type": "code",
   "execution_count": 10,
   "metadata": {},
   "outputs": [],
   "source": [
    "def test2():\n",
    "    return(2,3)\n",
    "a,b= test2()"
   ]
  },
  {
   "cell_type": "code",
   "execution_count": 20,
   "metadata": {},
   "outputs": [
    {
     "name": "stdout",
     "output_type": "stream",
     "text": [
      "67 117 110\n",
      "second has the highest\n"
     ]
    }
   ],
   "source": [
    "import random\n",
    "\n",
    "def randomno():\n",
    "    a=random.randint(10,100,10)\n",
    "    b=random.randint(10,100,10)\n",
    "    c=random.randint(10,100,10)\n",
    "    return(a+b+c)\n",
    "\n",
    "first=randomno()\n",
    "second=randomno()\n",
    "third=randomno()\n",
    "\n",
    "print(\"{} {} {}\".format(first,second,third))\n",
    "\n",
    "if first>second and first>third:\n",
    "    print(\"first has the highest\")\n",
    "elif second>first and second>third:\n",
    "    print('second has the highest')\n",
    "else:\n",
    "    print('third has the highest')\n",
    "    "
   ]
  },
  {
   "cell_type": "markdown",
   "metadata": {},
   "source": [
    "<h1>anonymous fuction</h1>"
   ]
  },
  {
   "cell_type": "code",
   "execution_count": 23,
   "metadata": {},
   "outputs": [
    {
     "data": {
      "text/plain": [
       "20"
      ]
     },
     "execution_count": 23,
     "metadata": {},
     "output_type": "execute_result"
    }
   ],
   "source": [
    "x= lambda i:i+10\n",
    "x(10)"
   ]
  },
  {
   "cell_type": "code",
   "execution_count": 25,
   "metadata": {},
   "outputs": [
    {
     "data": {
      "text/plain": [
       "True"
      ]
     },
     "execution_count": 25,
     "metadata": {},
     "output_type": "execute_result"
    }
   ],
   "source": [
    "j = lambda num:num%2==0\n",
    "j(8)"
   ]
  },
  {
   "cell_type": "code",
   "execution_count": 28,
   "metadata": {},
   "outputs": [
    {
     "data": {
      "text/plain": [
       "8"
      ]
     },
     "execution_count": 28,
     "metadata": {},
     "output_type": "execute_result"
    }
   ],
   "source": [
    "pow = lambda x,y:x**y\n",
    "pow(2,3)"
   ]
  },
  {
   "cell_type": "code",
   "execution_count": 32,
   "metadata": {},
   "outputs": [
    {
     "name": "stdout",
     "output_type": "stream",
     "text": [
      "[20, 40, 60, 80, 100]\n"
     ]
    }
   ],
   "source": [
    "l=[10,20,30,40,50]\n",
    "m=map(lambda i:i*2,l)\n",
    "print(list(m))\n"
   ]
  },
  {
   "cell_type": "code",
   "execution_count": 34,
   "metadata": {},
   "outputs": [
    {
     "name": "stdout",
     "output_type": "stream",
     "text": [
      "[3, 6, 9]\n"
     ]
    }
   ],
   "source": [
    "l=[2,3,4,5,6,7,8,9]\n",
    "m=filter(lambda i:i%3==0,l)\n",
    "print(list(m))\n"
   ]
  }
 ],
 "metadata": {
  "kernelspec": {
   "display_name": "Python 3",
   "language": "python",
   "name": "python3"
  },
  "language_info": {
   "codemirror_mode": {
    "name": "ipython",
    "version": 3
   },
   "file_extension": ".py",
   "mimetype": "text/x-python",
   "name": "python",
   "nbconvert_exporter": "python",
   "pygments_lexer": "ipython3",
   "version": "3.7.4"
  }
 },
 "nbformat": 4,
 "nbformat_minor": 2
}
